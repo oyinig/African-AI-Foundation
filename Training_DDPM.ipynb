{
  "nbformat": 4,
  "nbformat_minor": 0,
  "metadata": {
    "colab": {
      "provenance": [],
      "gpuType": "V100",
      "authorship_tag": "ABX9TyNzImhNEcbEsOthXJqp2Xds",
      "include_colab_link": true
    },
    "kernelspec": {
      "name": "python3",
      "display_name": "Python 3"
    },
    "language_info": {
      "name": "python"
    },
    "accelerator": "GPU"
  },
  "cells": [
    {
      "cell_type": "markdown",
      "metadata": {
        "id": "view-in-github",
        "colab_type": "text"
      },
      "source": [
        "<a href=\"https://colab.research.google.com/github/oyinig/African-AI-Foundation/blob/main/Training_DDPM.ipynb\" target=\"_parent\"><img src=\"https://colab.research.google.com/assets/colab-badge.svg\" alt=\"Open In Colab\"/></a>"
      ]
    },
    {
      "cell_type": "markdown",
      "source": [
        "#Helper Functions for the UNET Model"
      ],
      "metadata": {
        "id": "QGAD_77_Bcwc"
      }
    },
    {
      "cell_type": "code",
      "source": [
        "import torch\n",
        "import torch.nn as nn\n",
        "import numpy as np\n",
        "from torchvision.utils import save_image, make_grid\n",
        "import matplotlib.pyplot as plt\n",
        "from matplotlib.animation import FuncAnimation, PillowWriter\n",
        "import os\n",
        "import torchvision.transforms as transforms\n",
        "from torch.utils.data import Dataset\n",
        "from PIL import Image\n",
        "\n",
        "\n",
        "class ResidualConvBlock(nn.Module):\n",
        "    def __init__(\n",
        "        self, in_channels: int, out_channels: int, is_res: bool = False\n",
        "    ) -> None:\n",
        "        super().__init__()\n",
        "\n",
        "        # Check if input and output channels are the same for the residual connection\n",
        "        self.same_channels = in_channels == out_channels\n",
        "\n",
        "        # Flag for whether or not to use residual connection\n",
        "        self.is_res = is_res\n",
        "\n",
        "        # First convolutional layer\n",
        "        self.conv1 = nn.Sequential(\n",
        "            nn.Conv2d(in_channels, out_channels, 3, 1, 1),   # 3x3 kernel with stride 1 and padding 1\n",
        "            nn.BatchNorm2d(out_channels),   # Batch normalization\n",
        "            nn.GELU(),   # GELU activation function\n",
        "        )\n",
        "\n",
        "        # Second convolutional layer\n",
        "        self.conv2 = nn.Sequential(\n",
        "            nn.Conv2d(out_channels, out_channels, 3, 1, 1),   # 3x3 kernel with stride 1 and padding 1\n",
        "            nn.BatchNorm2d(out_channels),   # Batch normalization\n",
        "            nn.GELU(),   # GELU activation function\n",
        "        )\n",
        "\n",
        "    def forward(self, x: torch.Tensor) -> torch.Tensor:\n",
        "\n",
        "        # If using residual connection\n",
        "        if self.is_res:\n",
        "            # Apply first convolutional layer\n",
        "            x1 = self.conv1(x)\n",
        "\n",
        "            # Apply second convolutional layer\n",
        "            x2 = self.conv2(x1)\n",
        "\n",
        "            # If input and output channels are the same, add residual connection directly\n",
        "            if self.same_channels:\n",
        "                out = x + x2\n",
        "            else:\n",
        "                # If not, apply a 1x1 convolutional layer to match dimensions before adding residual connection\n",
        "                shortcut = nn.Conv2d(x.shape[1], x2.shape[1], kernel_size=1, stride=1, padding=0).to(x.device)\n",
        "                out = shortcut(x) + x2\n",
        "            #print(f\"resconv forward: x {x.shape}, x1 {x1.shape}, x2 {x2.shape}, out {out.shape}\")\n",
        "\n",
        "            # Normalize output tensor\n",
        "            return out / 1.414\n",
        "\n",
        "        # If not using residual connection, return output of second convolutional layer\n",
        "        else:\n",
        "            x1 = self.conv1(x)\n",
        "            x2 = self.conv2(x1)\n",
        "            return x2\n",
        "\n",
        "    # Method to get the number of output channels for this block\n",
        "    def get_out_channels(self):\n",
        "        return self.conv2[0].out_channels\n",
        "\n",
        "    # Method to set the number of output channels for this block\n",
        "    def set_out_channels(self, out_channels):\n",
        "        self.conv1[0].out_channels = out_channels\n",
        "        self.conv2[0].in_channels = out_channels\n",
        "        self.conv2[0].out_channels = out_channels\n",
        "\n",
        "\n",
        "\n",
        "class UnetUp(nn.Module):\n",
        "    def __init__(self, in_channels, out_channels):\n",
        "        super(UnetUp, self).__init__()\n",
        "\n",
        "        # Create a list of layers for the upsampling block\n",
        "        # The block consists of a ConvTranspose2d layer for upsampling, followed by two ResidualConvBlock layers\n",
        "        layers = [\n",
        "            nn.ConvTranspose2d(in_channels, out_channels, 2, 2),\n",
        "            ResidualConvBlock(out_channels, out_channels),\n",
        "            ResidualConvBlock(out_channels, out_channels),\n",
        "        ]\n",
        "\n",
        "        # Use the layers to create a sequential model\n",
        "        self.model = nn.Sequential(*layers)\n",
        "\n",
        "    def forward(self, x, skip):\n",
        "        # Concatenate the input tensor x with the skip connection tensor along the channel dimension\n",
        "        x = torch.cat((x, skip), 1)\n",
        "\n",
        "        # Pass the concatenated tensor through the sequential model and return the output\n",
        "        x = self.model(x)\n",
        "        return x\n",
        "\n",
        "\n",
        "class UnetDown(nn.Module):\n",
        "    def __init__(self, in_channels, out_channels):\n",
        "        super(UnetDown, self).__init__()\n",
        "\n",
        "        # Create a list of layers for the downsampling block\n",
        "        # Each block consists of two ResidualConvBlock layers, followed by a MaxPool2d layer for downsampling\n",
        "        layers = [ResidualConvBlock(in_channels, out_channels), ResidualConvBlock(out_channels, out_channels), nn.MaxPool2d(2)]\n",
        "\n",
        "        # Use the layers to create a sequential model\n",
        "        self.model = nn.Sequential(*layers)\n",
        "\n",
        "    def forward(self, x):\n",
        "        # Pass the input through the sequential model and return the output\n",
        "        return self.model(x)\n",
        "\n",
        "class EmbedFC(nn.Module):\n",
        "    def __init__(self, input_dim, emb_dim):\n",
        "        super(EmbedFC, self).__init__()\n",
        "        '''\n",
        "        This class defines a generic one layer feed-forward neural network for embedding input data of\n",
        "        dimensionality input_dim to an embedding space of dimensionality emb_dim.\n",
        "        '''\n",
        "        self.input_dim = input_dim\n",
        "\n",
        "        # define the layers for the network\n",
        "        layers = [\n",
        "            nn.Linear(input_dim, emb_dim),\n",
        "            nn.GELU(),\n",
        "            nn.Linear(emb_dim, emb_dim),\n",
        "        ]\n",
        "\n",
        "        # create a PyTorch sequential model consisting of the defined layers\n",
        "        self.model = nn.Sequential(*layers)\n",
        "\n",
        "    def forward(self, x):\n",
        "        # flatten the input tensor\n",
        "        x = x.view(-1, self.input_dim)\n",
        "        # apply the model layers to the flattened tensor\n",
        "        return self.model(x)\n",
        "\n",
        "def unorm(x):\n",
        "    # unity norm. results in range of [0,1]\n",
        "    # assume x (h,w,3)\n",
        "    xmax = x.max((0,1))\n",
        "    xmin = x.min((0,1))\n",
        "    return(x - xmin)/(xmax - xmin)\n",
        "\n",
        "def norm_all(store, n_t, n_s):\n",
        "    # runs unity norm on all timesteps of all samples\n",
        "    nstore = np.zeros_like(store)\n",
        "    for t in range(n_t):\n",
        "        for s in range(n_s):\n",
        "            nstore[t,s] = unorm(store[t,s])\n",
        "    return nstore\n",
        "\n",
        "def norm_torch(x_all):\n",
        "    # runs unity norm on all timesteps of all samples\n",
        "    # input is (n_samples, 3,h,w), the torch image format\n",
        "    x = x_all.cpu().numpy()\n",
        "    xmax = x.max((2,3))\n",
        "    xmin = x.min((2,3))\n",
        "    xmax = np.expand_dims(xmax,(2,3))\n",
        "    xmin = np.expand_dims(xmin,(2,3))\n",
        "    nstore = (x - xmin)/(xmax - xmin)\n",
        "    return torch.from_numpy(nstore)\n",
        "\n",
        "def gen_tst_context(n_cfeat):\n",
        "    \"\"\"\n",
        "    Generate test context vectors\n",
        "    \"\"\"\n",
        "    vec = torch.tensor([\n",
        "    [1,0,0,0,0], [0,1,0,0,0], [0,0,1,0,0], [0,0,0,1,0], [0,0,0,0,1],  [0,0,0,0,0],      # human, non-human, food, spell, side-facing\n",
        "    [1,0,0,0,0], [0,1,0,0,0], [0,0,1,0,0], [0,0,0,1,0], [0,0,0,0,1],  [0,0,0,0,0],      # human, non-human, food, spell, side-facing\n",
        "    [1,0,0,0,0], [0,1,0,0,0], [0,0,1,0,0], [0,0,0,1,0], [0,0,0,0,1],  [0,0,0,0,0],      # human, non-human, food, spell, side-facing\n",
        "    [1,0,0,0,0], [0,1,0,0,0], [0,0,1,0,0], [0,0,0,1,0], [0,0,0,0,1],  [0,0,0,0,0],      # human, non-human, food, spell, side-facing\n",
        "    [1,0,0,0,0], [0,1,0,0,0], [0,0,1,0,0], [0,0,0,1,0], [0,0,0,0,1],  [0,0,0,0,0],      # human, non-human, food, spell, side-facing\n",
        "    [1,0,0,0,0], [0,1,0,0,0], [0,0,1,0,0], [0,0,0,1,0], [0,0,0,0,1],  [0,0,0,0,0]]      # human, non-human, food, spell, side-facing\n",
        "    )\n",
        "    return len(vec), vec\n",
        "\n",
        "def plot_grid(x,n_sample,n_rows,save_dir,w):\n",
        "    # x:(n_sample, 3, h, w)\n",
        "    ncols = n_sample//n_rows\n",
        "    grid = make_grid(norm_torch(x), nrow=ncols)  # curiously, nrow is number of columns.. or number of items in the row.\n",
        "    save_image(grid, save_dir + f\"run_image_w{w}.png\")\n",
        "    print('saved image at ' + save_dir + f\"run_image_w{w}.png\")\n",
        "    return grid\n",
        "\n",
        "def plot_sample(x_gen_store,n_sample,nrows,save_dir, fn,  w, save=False):\n",
        "    ncols = n_sample//nrows\n",
        "    sx_gen_store = np.moveaxis(x_gen_store,2,4)                               # change to Numpy image format (h,w,channels) vs (channels,h,w)\n",
        "    nsx_gen_store = norm_all(sx_gen_store, sx_gen_store.shape[0], n_sample)   # unity norm to put in range [0,1] for np.imshow\n",
        "\n",
        "    # create gif of images evolving over time, based on x_gen_store\n",
        "    fig, axs = plt.subplots(nrows=nrows, ncols=ncols, sharex=True, sharey=True,figsize=(ncols,nrows))\n",
        "    def animate_diff(i, store):\n",
        "        print(f'gif animating frame {i} of {store.shape[0]}', end='\\r')\n",
        "        plots = []\n",
        "        for row in range(nrows):\n",
        "            for col in range(ncols):\n",
        "                axs[row, col].clear()\n",
        "                axs[row, col].set_xticks([])\n",
        "                axs[row, col].set_yticks([])\n",
        "                plots.append(axs[row, col].imshow(store[i,(row*ncols)+col]))\n",
        "        return plots\n",
        "    ani = FuncAnimation(fig, animate_diff, fargs=[nsx_gen_store],  interval=200, blit=False, repeat=True, frames=nsx_gen_store.shape[0])\n",
        "    plt.close()\n",
        "    if save:\n",
        "        ani.save(save_dir + f\"{fn}_w{w}.gif\", dpi=100, writer=PillowWriter(fps=5))\n",
        "        print('saved gif at ' + save_dir + f\"{fn}_w{w}.gif\")\n",
        "    return ani\n",
        "\n",
        "\n",
        "class CustomDataset(Dataset):\n",
        "    def __init__(self, sfilename, lfilename, transform, null_context=False):\n",
        "        self.sprites = np.load(sfilename)\n",
        "        self.slabels = np.load(lfilename)\n",
        "        print(f\"sprite shape: {self.sprites.shape}\")\n",
        "        print(f\"labels shape: {self.slabels.shape}\")\n",
        "        self.transform = transform\n",
        "        self.null_context = null_context\n",
        "        self.sprites_shape = self.sprites.shape\n",
        "        self.slabel_shape = self.slabels.shape\n",
        "\n",
        "    # Return the number of images in the dataset\n",
        "    def __len__(self):\n",
        "        return len(self.sprites)\n",
        "\n",
        "    # Get the image and label at a given index\n",
        "    def __getitem__(self, idx):\n",
        "        # Return the image and label as a tuple\n",
        "        if self.transform:\n",
        "            image = self.transform(self.sprites[idx])\n",
        "            if self.null_context:\n",
        "                label = torch.tensor(0).to(torch.int64)\n",
        "            else:\n",
        "                label = torch.tensor(self.slabels[idx]).to(torch.int64)\n",
        "        return (image, label)\n",
        "\n",
        "    def getshapes(self):\n",
        "        # return shapes of data and labels\n",
        "        return self.sprites_shape, self.slabel_shape\n",
        "\n",
        "transform = transforms.Compose([\n",
        "    transforms.ToTensor(),                # from [0,255] to range [0.0,1.0]\n",
        "    transforms.Normalize((0.5,), (0.5,))  # range [-1,1]\n",
        "\n",
        "])\n"
      ],
      "metadata": {
        "id": "hVssGOG5BbcT"
      },
      "execution_count": 1,
      "outputs": []
    },
    {
      "cell_type": "markdown",
      "source": [
        "# Training A Diffussion Model"
      ],
      "metadata": {
        "id": "4TFP74gV9p_x"
      }
    },
    {
      "cell_type": "code",
      "execution_count": 2,
      "metadata": {
        "id": "HDfVQ-Bl9LCM"
      },
      "outputs": [],
      "source": [
        "from typing import Dict, Tuple\n",
        "from tqdm import tqdm\n",
        "import torch\n",
        "import torch.nn as nn\n",
        "import torch.nn.functional as F\n",
        "from torch.utils.data import DataLoader\n",
        "from torchvision import models, transforms\n",
        "from torchvision.utils import save_image, make_grid\n",
        "import matplotlib.pyplot as plt\n",
        "from matplotlib.animation import FuncAnimation, PillowWriter\n",
        "import numpy as np\n",
        "from IPython.display import HTML"
      ]
    },
    {
      "cell_type": "markdown",
      "source": [
        "# Setting Things Up"
      ],
      "metadata": {
        "id": "3CD9ZMad924j"
      }
    },
    {
      "cell_type": "code",
      "source": [
        "class ContextUnet(nn.Module):\n",
        "    def __init__(self, in_channels, n_feat=256, n_cfeat=10, height=28):  # cfeat - context features\n",
        "        super(ContextUnet, self).__init__()\n",
        "\n",
        "        # number of input channels, number of intermediate feature maps and number of classes\n",
        "        self.in_channels = in_channels\n",
        "        self.n_feat = n_feat\n",
        "        self.n_cfeat = n_cfeat\n",
        "        self.h = height  #assume h == w. must be divisible by 4, so 28,24,20,16...\n",
        "\n",
        "        # Initialize the initial convolutional layer\n",
        "        self.init_conv = ResidualConvBlock(in_channels, n_feat, is_res=True)\n",
        "\n",
        "        # Initialize the down-sampling path of the U-Net with two levels\n",
        "        self.down1 = UnetDown(n_feat, n_feat)        # down1 #[10, 256, 8, 8]\n",
        "        self.down2 = UnetDown(n_feat, 2 * n_feat)    # down2 #[10, 256, 4,  4]\n",
        "\n",
        "         # original: self.to_vec = nn.Sequential(nn.AvgPool2d(7), nn.GELU())\n",
        "        self.to_vec = nn.Sequential(nn.AvgPool2d((4)), nn.GELU())\n",
        "\n",
        "        # Embed the timestep and context labels with a one-layer fully connected neural network\n",
        "        self.timeembed1 = EmbedFC(1, 2*n_feat)\n",
        "        self.timeembed2 = EmbedFC(1, 1*n_feat)\n",
        "        self.contextembed1 = EmbedFC(n_cfeat, 2*n_feat)\n",
        "        self.contextembed2 = EmbedFC(n_cfeat, 1*n_feat)\n",
        "\n",
        "        # Initialize the up-sampling path of the U-Net with three levels\n",
        "        self.up0 = nn.Sequential(\n",
        "            nn.ConvTranspose2d(2 * n_feat, 2 * n_feat, self.h//4, self.h//4), # up-sample\n",
        "            nn.GroupNorm(8, 2 * n_feat), # normalize\n",
        "            nn.ReLU(),\n",
        "        )\n",
        "        self.up1 = UnetUp(4 * n_feat, n_feat)\n",
        "        self.up2 = UnetUp(2 * n_feat, n_feat)\n",
        "\n",
        "        # Initialize the final convolutional layers to map to the same number of channels as the input image\n",
        "        self.out = nn.Sequential(\n",
        "            nn.Conv2d(2 * n_feat, n_feat, 3, 1, 1), # reduce number of feature maps   #in_channels, out_channels, kernel_size, stride=1, padding=0\n",
        "            nn.GroupNorm(8, n_feat), # normalize\n",
        "            nn.ReLU(),\n",
        "            nn.Conv2d(n_feat, self.in_channels, 3, 1, 1), # map to same number of channels as input\n",
        "        )\n",
        "\n",
        "    def forward(self, x, t, c=None):\n",
        "        \"\"\"\n",
        "        x : (batch, n_feat, h, w) : input image\n",
        "        t : (batch, n_cfeat)      : time step\n",
        "        c : (batch, n_classes)    : context label\n",
        "        \"\"\"\n",
        "        # x is the input image, c is the context label, t is the timestep, context_mask says which samples to block the context on\n",
        "\n",
        "        # pass the input image through the initial convolutional layer\n",
        "        x = self.init_conv(x)\n",
        "        # pass the result through the down-sampling path\n",
        "        down1 = self.down1(x)       #[10, 256, 8, 8]\n",
        "        down2 = self.down2(down1)   #[10, 256, 4, 4]\n",
        "\n",
        "        # convert the feature maps to a vector and apply an activation\n",
        "        hiddenvec = self.to_vec(down2)\n",
        "\n",
        "        # mask out context if context_mask == 1\n",
        "        if c is None:\n",
        "            c = torch.zeros(x.shape[0], self.n_cfeat).to(x)\n",
        "\n",
        "        # embed context and timestep\n",
        "        cemb1 = self.contextembed1(c).view(-1, self.n_feat * 2, 1, 1)     # (batch, 2*n_feat, 1,1)\n",
        "        temb1 = self.timeembed1(t).view(-1, self.n_feat * 2, 1, 1)\n",
        "        cemb2 = self.contextembed2(c).view(-1, self.n_feat, 1, 1)\n",
        "        temb2 = self.timeembed2(t).view(-1, self.n_feat, 1, 1)\n",
        "        #print(f\"uunet forward: cemb1 {cemb1.shape}. temb1 {temb1.shape}, cemb2 {cemb2.shape}. temb2 {temb2.shape}\")\n",
        "\n",
        "\n",
        "        up1 = self.up0(hiddenvec)\n",
        "        up2 = self.up1(cemb1*up1 + temb1, down2)  # add and multiply embeddings\n",
        "        up3 = self.up2(cemb2*up2 + temb2, down1)\n",
        "        out = self.out(torch.cat((up3, x), 1))\n",
        "        return out\n"
      ],
      "metadata": {
        "id": "WP47rJ3r--pe"
      },
      "execution_count": 3,
      "outputs": []
    },
    {
      "cell_type": "code",
      "source": [
        "# hyperparameters\n",
        "\n",
        "# diffusion hyperparameters\n",
        "timesteps = 500\n",
        "beta1 = 1e-4\n",
        "beta2 = 0.02\n",
        "\n",
        "# network hyperparameters\n",
        "device = torch.device(\"cuda:0\" if torch.cuda.is_available() else torch.device('cpu'))\n",
        "n_feat = 64 # 64 hidden dimension feature\n",
        "n_cfeat = 5 # context vector is of size 5\n",
        "height = 16 # 16x16 image\n",
        "save_dir = './weights/'\n",
        "\n",
        "# training hyperparameters\n",
        "batch_size = 100\n",
        "n_epoch = 32\n",
        "lrate=1e-3"
      ],
      "metadata": {
        "id": "0GJGt268_GOW"
      },
      "execution_count": 4,
      "outputs": []
    },
    {
      "cell_type": "code",
      "source": [
        "# construct DDPM noise schedule\n",
        "b_t = (beta2 - beta1) * torch.linspace(0, 1, timesteps + 1, device=device) + beta1\n",
        "a_t = 1 - b_t\n",
        "ab_t = torch.cumsum(a_t.log(), dim=0).exp()\n",
        "ab_t[0] = 1"
      ],
      "metadata": {
        "id": "kz2JFNGC_LwG"
      },
      "execution_count": 5,
      "outputs": []
    },
    {
      "cell_type": "code",
      "source": [
        "# construct model\n",
        "nn_model = ContextUnet(in_channels=3, n_feat=n_feat, n_cfeat=n_cfeat, height=height).to(device)"
      ],
      "metadata": {
        "id": "YDa0z9Bb_PVb"
      },
      "execution_count": 7,
      "outputs": []
    },
    {
      "cell_type": "markdown",
      "source": [
        "# Training"
      ],
      "metadata": {
        "id": "eRuOTwyr_BmQ"
      }
    },
    {
      "cell_type": "code",
      "source": [
        "# load dataset and construct optimizer\n",
        "dataset = CustomDataset(\"./sprites_1788_16x16.npy\", \"./sprite_labels_nc_1788_16x16.npy\", transform, null_context=False)\n",
        "dataloader = DataLoader(dataset, batch_size=batch_size, shuffle=True, num_workers=1)\n",
        "optim = torch.optim.Adam(nn_model.parameters(), lr=lrate)"
      ],
      "metadata": {
        "colab": {
          "base_uri": "https://localhost:8080/"
        },
        "id": "xIVHRYt1_Zvn",
        "outputId": "5735675f-c81f-40b4-e025-ba7cb1b6efdf"
      },
      "execution_count": 8,
      "outputs": [
        {
          "output_type": "stream",
          "name": "stdout",
          "text": [
            "sprite shape: (89400, 16, 16, 3)\n",
            "labels shape: (89400, 5)\n"
          ]
        }
      ]
    },
    {
      "cell_type": "code",
      "source": [
        "# helper function: perturbs an image to a specified noise level\n",
        "def perturb_input(x, t, noise):\n",
        "    return ab_t.sqrt()[t, None, None, None] * x + (1 - ab_t[t, None, None, None]) * noise"
      ],
      "metadata": {
        "id": "Dl6EF3Ke_dvy"
      },
      "execution_count": 9,
      "outputs": []
    },
    {
      "cell_type": "markdown",
      "source": [
        "# training without context code\n"
      ],
      "metadata": {
        "id": "7zEVYYQw_82W"
      }
    },
    {
      "cell_type": "code",
      "source": [
        "# training without context code\n",
        "\n",
        "# set into train mode\n",
        "nn_model.train()\n",
        "\n",
        "for ep in range(n_epoch):\n",
        "    print(f'epoch {ep}')\n",
        "\n",
        "    # linearly decay learning rate\n",
        "    optim.param_groups[0]['lr'] = lrate*(1-ep/n_epoch)\n",
        "\n",
        "    pbar = tqdm(dataloader, mininterval=2 )\n",
        "    for x, _ in pbar:   # x: images\n",
        "        optim.zero_grad()\n",
        "        x = x.to(device)\n",
        "\n",
        "        # perturb data\n",
        "        noise = torch.randn_like(x)\n",
        "        t = torch.randint(1, timesteps + 1, (x.shape[0],)).to(device)\n",
        "        x_pert = perturb_input(x, t, noise)\n",
        "\n",
        "        # use network to recover noise\n",
        "        pred_noise = nn_model(x_pert, t / timesteps)\n",
        "\n",
        "        # loss is mean squared error between the predicted and true noise\n",
        "        loss = F.mse_loss(pred_noise, noise)\n",
        "        loss.backward()\n",
        "\n",
        "        optim.step()\n",
        "\n",
        "    # save model periodically\n",
        "    if ep%4==0 or ep == int(n_epoch-1):\n",
        "        if not os.path.exists(save_dir):\n",
        "            os.mkdir(save_dir)\n",
        "        torch.save(nn_model.state_dict(), save_dir + f\"model_{ep}.pth\")\n",
        "        print('saved model at ' + save_dir + f\"model_{ep}.pth\")"
      ],
      "metadata": {
        "colab": {
          "base_uri": "https://localhost:8080/"
        },
        "id": "2cYX-xBT_-uw",
        "outputId": "ad010931-fc7b-425e-a48f-ce7e63cada93"
      },
      "execution_count": null,
      "outputs": [
        {
          "output_type": "stream",
          "name": "stdout",
          "text": [
            "epoch 0\n"
          ]
        },
        {
          "output_type": "stream",
          "name": "stderr",
          "text": [
            "100%|██████████| 894/894 [00:36<00:00, 24.38it/s]\n"
          ]
        },
        {
          "output_type": "stream",
          "name": "stdout",
          "text": [
            "saved model at ./weights/model_0.pth\n",
            "epoch 1\n"
          ]
        },
        {
          "output_type": "stream",
          "name": "stderr",
          "text": [
            "100%|██████████| 894/894 [00:27<00:00, 32.60it/s]\n"
          ]
        },
        {
          "output_type": "stream",
          "name": "stdout",
          "text": [
            "epoch 2\n"
          ]
        },
        {
          "output_type": "stream",
          "name": "stderr",
          "text": [
            "100%|██████████| 894/894 [00:27<00:00, 32.30it/s]\n"
          ]
        },
        {
          "output_type": "stream",
          "name": "stdout",
          "text": [
            "epoch 3\n"
          ]
        },
        {
          "output_type": "stream",
          "name": "stderr",
          "text": [
            "\r  0%|          | 0/894 [00:00<?, ?it/s]"
          ]
        }
      ]
    },
    {
      "cell_type": "markdown",
      "source": [
        "# Sampling"
      ],
      "metadata": {
        "id": "IzCI73YGAFXo"
      }
    },
    {
      "cell_type": "code",
      "source": [
        "# helper function; removes the predicted noise (but adds some noise back in to avoid collapse)\n",
        "def denoise_add_noise(x, t, pred_noise, z=None):\n",
        "    if z is None:\n",
        "        z = torch.randn_like(x)\n",
        "    noise = b_t.sqrt()[t] * z\n",
        "    mean = (x - pred_noise * ((1 - a_t[t]) / (1 - ab_t[t]).sqrt())) / a_t[t].sqrt()\n",
        "    return mean + noise"
      ],
      "metadata": {
        "id": "VJL4HGyUAGMy"
      },
      "execution_count": null,
      "outputs": []
    },
    {
      "cell_type": "code",
      "source": [
        "# sample using standard algorithm\n",
        "@torch.no_grad()\n",
        "def sample_ddpm(n_sample, save_rate=20):\n",
        "    # x_T ~ N(0, 1), sample initial noise\n",
        "    samples = torch.randn(n_sample, 3, height, height).to(device)\n",
        "\n",
        "    # array to keep track of generated steps for plotting\n",
        "    intermediate = []\n",
        "    for i in range(timesteps, 0, -1):\n",
        "        print(f'sampling timestep {i:3d}', end='\\r')\n",
        "\n",
        "        # reshape time tensor\n",
        "        t = torch.tensor([i / timesteps])[:, None, None, None].to(device)\n",
        "\n",
        "        # sample some random noise to inject back in. For i = 1, don't add back in noise\n",
        "        z = torch.randn_like(samples) if i > 1 else 0\n",
        "\n",
        "        eps = nn_model(samples, t)    # predict noise e_(x_t,t)\n",
        "        samples = denoise_add_noise(samples, i, eps, z)\n",
        "        if i % save_rate ==0 or i==timesteps or i<8:\n",
        "            intermediate.append(samples.detach().cpu().numpy())\n",
        "\n",
        "    intermediate = np.stack(intermediate)\n",
        "    return samples, intermediate"
      ],
      "metadata": {
        "id": "oENsg7PrAKTI"
      },
      "execution_count": null,
      "outputs": []
    },
    {
      "cell_type": "markdown",
      "source": [
        "#### View Epoch 0"
      ],
      "metadata": {
        "id": "_pdFWP55Ac9B"
      }
    },
    {
      "cell_type": "code",
      "source": [
        "# load in model weights and set to eval mode\n",
        "nn_model.load_state_dict(torch.load(f\"{save_dir}/model_0.pth\", map_location=device))\n",
        "nn_model.eval()\n",
        "print(\"Loaded in Model\")"
      ],
      "metadata": {
        "id": "Naee4OSpAd4C"
      },
      "execution_count": null,
      "outputs": []
    },
    {
      "cell_type": "code",
      "source": [
        "# visualize samples\n",
        "plt.clf()\n",
        "samples, intermediate_ddpm = sample_ddpm(32)\n",
        "animation_ddpm = plot_sample(intermediate_ddpm,32,4,save_dir, \"ani_run\", None, save=False)\n",
        "HTML(animation_ddpm.to_jshtml())"
      ],
      "metadata": {
        "id": "0C0XHReBAi98"
      },
      "execution_count": null,
      "outputs": []
    },
    {
      "cell_type": "markdown",
      "source": [
        "#### View Epoch 4"
      ],
      "metadata": {
        "id": "GnYkfZ1nA-zw"
      }
    },
    {
      "cell_type": "code",
      "source": [
        "# load in model weights and set to eval mode\n",
        "nn_model.load_state_dict(torch.load(f\"{save_dir}/model_4.pth\", map_location=device))\n",
        "nn_model.eval()\n",
        "print(\"Loaded in Model\")"
      ],
      "metadata": {
        "id": "eGLPah7KAmsA"
      },
      "execution_count": null,
      "outputs": []
    },
    {
      "cell_type": "code",
      "source": [
        "# visualize samples\n",
        "plt.clf()\n",
        "samples, intermediate_ddpm = sample_ddpm(32)\n",
        "animation_ddpm = plot_sample(intermediate_ddpm,32,4,save_dir, \"ani_run\", None, save=False)\n",
        "HTML(animation_ddpm.to_jshtml())"
      ],
      "metadata": {
        "id": "zTESakoFAom6"
      },
      "execution_count": null,
      "outputs": []
    },
    {
      "cell_type": "markdown",
      "source": [
        "#### View Epoch 8"
      ],
      "metadata": {
        "id": "_zUhKArVBAka"
      }
    },
    {
      "cell_type": "code",
      "source": [
        "# load in model weights and set to eval mode\n",
        "nn_model.load_state_dict(torch.load(f\"{save_dir}/model_8.pth\", map_location=device))\n",
        "nn_model.eval()\n",
        "print(\"Loaded in Model\")"
      ],
      "metadata": {
        "id": "eI0cvinEApOM"
      },
      "execution_count": null,
      "outputs": []
    },
    {
      "cell_type": "code",
      "source": [
        "# visualize samples\n",
        "plt.clf()\n",
        "samples, intermediate_ddpm = sample_ddpm(32)\n",
        "animation_ddpm = plot_sample(intermediate_ddpm,32,4,save_dir, \"ani_run\", None, save=False)\n",
        "HTML(animation_ddpm.to_jshtml())"
      ],
      "metadata": {
        "id": "YFkiYGmzAs4E"
      },
      "execution_count": null,
      "outputs": []
    },
    {
      "cell_type": "markdown",
      "source": [
        "#### View Epoch 31"
      ],
      "metadata": {
        "id": "BKgEzR_tBCoI"
      }
    },
    {
      "cell_type": "code",
      "source": [
        "# load in model weights and set to eval mode\n",
        "nn_model.load_state_dict(torch.load(f\"{save_dir}/model_31.pth\", map_location=device))\n",
        "nn_model.eval()\n",
        "print(\"Loaded in Model\")"
      ],
      "metadata": {
        "id": "_uyW1qooAwJo"
      },
      "execution_count": null,
      "outputs": []
    },
    {
      "cell_type": "code",
      "source": [
        "# visualize samples\n",
        "plt.clf()\n",
        "samples, intermediate_ddpm = sample_ddpm(32)\n",
        "animation_ddpm = plot_sample(intermediate_ddpm,32,4,save_dir, \"ani_run\", None, save=False)\n",
        "HTML(animation_ddpm.to_jshtml())"
      ],
      "metadata": {
        "id": "OEpdceuoAyFP"
      },
      "execution_count": null,
      "outputs": []
    },
    {
      "cell_type": "markdown",
      "source": [
        "# Acknowledgments\n",
        "Sprites by ElvGames, [FrootsnVeggies](https://zrghr.itch.io/froots-and-veggies-culinary-pixels) and  [kyrise](https://kyrise.itch.io/)   \n",
        "This code is modified from, https://github.com/cloneofsimo/minDiffusion   \n",
        "Diffusion model is based on [Denoising Diffusion Probabilistic Models](https://arxiv.org/abs/2006.11239) and [Denoising Diffusion Implicit Models](https://arxiv.org/abs/2010.02502)"
      ],
      "metadata": {
        "id": "RMF5X2e8A2SC"
      }
    },
    {
      "cell_type": "markdown",
      "source": [],
      "metadata": {
        "id": "Sb2hrT_UAifi"
      }
    }
  ]
}